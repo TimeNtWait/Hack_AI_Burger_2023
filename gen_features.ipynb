{
 "cells": [
  {
   "cell_type": "markdown",
   "metadata": {
    "pycharm": {
     "is_executing": true,
     "name": "#%%\n"
    }
   },
   "source": [
    "## BurgerKing"
   ]
  },
  {
   "cell_type": "code",
   "execution_count": 1,
   "metadata": {
    "scrolled": true
   },
   "outputs": [],
   "source": [
    "# !pip install pyarrow\n",
    "# !pip install fastparquet"
   ]
  },
  {
   "cell_type": "code",
   "execution_count": 128,
   "metadata": {},
   "outputs": [],
   "source": [
    "import pandas as pd\n",
    "import numpy as np\n",
    "from datetime import datetime\n",
    "\n",
    "from sklearn.model_selection import train_test_split\n",
    "from catboost import CatBoostClassifier, CatBoostRegressor, Pool\n",
    "from sklearn.utils.class_weight import compute_class_weight\n",
    "from sklearn.metrics import roc_auc_score, roc_curve\n",
    "from sklearn.metrics import classification_report\n",
    "from sklearn.metrics import mean_squared_error, r2_score\n",
    "from sklearn.metrics import f1_score\n",
    "\n",
    "from tqdm import tqdm, trange\n",
    "\n",
    "import seaborn as sns\n",
    "import matplotlib.pyplot as plt\n",
    "%matplotlib inline"
   ]
  },
  {
   "cell_type": "code",
   "execution_count": 3,
   "metadata": {},
   "outputs": [],
   "source": [
    "# Убираем ограничение отображемых колонок\n",
    "pd.options.display.max_columns = None"
   ]
  },
  {
   "cell_type": "markdown",
   "metadata": {},
   "source": [
    "### Загружаем датасет"
   ]
  },
  {
   "cell_type": "code",
   "execution_count": 4,
   "metadata": {
    "scrolled": true
   },
   "outputs": [
    {
     "data": {
      "text/plain": [
       "(12129384, 9)"
      ]
     },
     "execution_count": 4,
     "metadata": {},
     "output_type": "execute_result"
    }
   ],
   "source": [
    "burger_df = pd.read_parquet('datasets/train_dataset_hackaton2023_train.gzip')\n",
    "burger_df.shape"
   ]
  },
  {
   "cell_type": "code",
   "execution_count": 5,
   "metadata": {},
   "outputs": [
    {
     "data": {
      "text/plain": [
       "(2498034, 7)"
      ]
     },
     "execution_count": 5,
     "metadata": {},
     "output_type": "execute_result"
    }
   ],
   "source": [
    "test_burger_df = pd.read_parquet('datasets/test_dataset_hackaton2023_test.gzip')\n",
    "test_burger_df.shape"
   ]
  },
  {
   "cell_type": "code",
   "execution_count": 6,
   "metadata": {
    "scrolled": true
   },
   "outputs": [
    {
     "data": {
      "text/plain": [
       "(1049, 2)"
      ]
     },
     "execution_count": 6,
     "metadata": {},
     "output_type": "execute_result"
    }
   ],
   "source": [
    "# Загружаем группы продуктов\n",
    "menu_df = pd.read_excel('datasets/Menu_v2.xlsx')\n",
    "menu_df.shape"
   ]
  },
  {
   "cell_type": "code",
   "execution_count": 7,
   "metadata": {},
   "outputs": [
    {
     "data": {
      "text/plain": [
       "(Timestamp('2022-09-02 00:00:39'), Timestamp('2023-08-01 23:57:46'))"
      ]
     },
     "execution_count": 7,
     "metadata": {},
     "output_type": "execute_result"
    }
   ],
   "source": [
    "# Период за который предоставлены данные\n",
    "burger_df['startdatetime'].min(), burger_df['startdatetime'].max()"
   ]
  },
  {
   "cell_type": "code",
   "execution_count": 8,
   "metadata": {},
   "outputs": [
    {
     "data": {
      "text/plain": [
       "(Timestamp('2022-09-02 00:04:00'), Timestamp('2023-08-01 23:31:03'))"
      ]
     },
     "execution_count": 8,
     "metadata": {},
     "output_type": "execute_result"
    }
   ],
   "source": [
    "# Период за который предоставлены данные в тесте\n",
    "test_burger_df['startdatetime'].min(), test_burger_df['startdatetime'].max()"
   ]
  },
  {
   "cell_type": "code",
   "execution_count": 9,
   "metadata": {
    "scrolled": true
   },
   "outputs": [
    {
     "data": {
      "text/plain": [
       "set()"
      ]
     },
     "execution_count": 9,
     "metadata": {},
     "output_type": "execute_result"
    }
   ],
   "source": [
    "# Проверка что в тестовых данных есть все уникальные места которые есть в обучающей выборке\n",
    "set(map(tuple,test_burger_df[['format_name', 'ownareaall_sqm']].values.tolist())) - set(map(tuple,burger_df[['format_name', 'ownareaall_sqm']].values.tolist()))"
   ]
  },
  {
   "cell_type": "code",
   "execution_count": 10,
   "metadata": {
    "scrolled": true
   },
   "outputs": [
    {
     "data": {
      "text/plain": [
       "(14627418, 9)"
      ]
     },
     "execution_count": 10,
     "metadata": {},
     "output_type": "execute_result"
    }
   ],
   "source": [
    "# Объединяем тест и трайн в один датасет для общей обработки\n",
    "test_burger_df['buy_post'] = np.nan\n",
    "test_burger_df['date_diff_post'] = np.nan\n",
    "union_burger_df = pd.concat([burger_df, test_burger_df])\n",
    "union_burger_df.shape"
   ]
  },
  {
   "cell_type": "code",
   "execution_count": 11,
   "metadata": {
    "scrolled": true
   },
   "outputs": [
    {
     "data": {
      "text/plain": [
       "(14627418, 10)"
      ]
     },
     "execution_count": 11,
     "metadata": {},
     "output_type": "execute_result"
    }
   ],
   "source": [
    "# Добавляем категории продуктов\n",
    "union_burger_df = union_burger_df.merge(menu_df, on='dish_name')\n",
    "union_burger_df.shape"
   ]
  },
  {
   "cell_type": "code",
   "execution_count": 12,
   "metadata": {},
   "outputs": [
    {
     "data": {
      "text/plain": [
       "(692, 3)"
      ]
     },
     "execution_count": 12,
     "metadata": {},
     "output_type": "execute_result"
    }
   ],
   "source": [
    "# Различить одну кафе от другой вероятно можно только по уникальности пары: 'format_name', 'ownareaall_sqm'\n",
    "place_df = union_burger_df[['format_name', 'ownareaall_sqm']].drop_duplicates().sort_values(by='format_name').reset_index().rename(columns={'index':'place_id'})\n",
    "place_df.shape"
   ]
  },
  {
   "cell_type": "code",
   "execution_count": 13,
   "metadata": {},
   "outputs": [],
   "source": [
    "# Заменяем нулевые площади на схожие, но не путая ИД мест\n",
    "place_df['correct_ownareaall_sqm'] = place_df['ownareaall_sqm']\n",
    "place_df.loc[(place_df['format_name'] == 'Фудкорт без туалета')&(place_df['ownareaall_sqm'] == 0), 'correct_ownareaall_sqm'] = place_df[place_df['format_name'] == 'Фудкорт без туалета']['ownareaall_sqm'].median()\n",
    "place_df.loc[(place_df['format_name'] == 'Отдельно стоящий с внешней зоной')&(place_df['ownareaall_sqm'] == 0), 'correct_ownareaall_sqm'] = place_df[place_df['format_name'] == 'Отдельно стоящий с внешней зоной']['ownareaall_sqm'].median()"
   ]
  },
  {
   "cell_type": "code",
   "execution_count": 14,
   "metadata": {},
   "outputs": [
    {
     "data": {
      "text/plain": [
       "(14627418, 12)"
      ]
     },
     "execution_count": 14,
     "metadata": {},
     "output_type": "execute_result"
    }
   ],
   "source": [
    "# Заносим в общий датасет ид места\n",
    "union_burger_df = union_burger_df.merge(place_df, on=['format_name', 'ownareaall_sqm'])\n",
    "union_burger_df.shape"
   ]
  },
  {
   "cell_type": "code",
   "execution_count": 15,
   "metadata": {},
   "outputs": [
    {
     "data": {
      "text/html": [
       "<div>\n",
       "<style scoped>\n",
       "    .dataframe tbody tr th:only-of-type {\n",
       "        vertical-align: middle;\n",
       "    }\n",
       "\n",
       "    .dataframe tbody tr th {\n",
       "        vertical-align: top;\n",
       "    }\n",
       "\n",
       "    .dataframe thead th {\n",
       "        text-align: right;\n",
       "    }\n",
       "</style>\n",
       "<table border=\"1\" class=\"dataframe\">\n",
       "  <thead>\n",
       "    <tr style=\"text-align: right;\">\n",
       "      <th></th>\n",
       "      <th>customer_id</th>\n",
       "      <th>date_diff_post</th>\n",
       "      <th>buy_post</th>\n",
       "      <th>group_name</th>\n",
       "      <th>revenue</th>\n",
       "      <th>startdatetime</th>\n",
       "      <th>dish_name</th>\n",
       "      <th>ownareaall_sqm</th>\n",
       "      <th>format_name</th>\n",
       "      <th>dish_cat</th>\n",
       "      <th>place_id</th>\n",
       "      <th>correct_ownareaall_sqm</th>\n",
       "    </tr>\n",
       "  </thead>\n",
       "  <tbody>\n",
       "    <tr>\n",
       "      <th>0</th>\n",
       "      <td>29891</td>\n",
       "      <td>9.0</td>\n",
       "      <td>1.0</td>\n",
       "      <td>train</td>\n",
       "      <td>69.99</td>\n",
       "      <td>2022-12-05 12:03:58</td>\n",
       "      <td>Кинг Фри станд</td>\n",
       "      <td>300.0</td>\n",
       "      <td>Отдельно стоящий без внешней зоны</td>\n",
       "      <td>Фри</td>\n",
       "      <td>0</td>\n",
       "      <td>300.0</td>\n",
       "    </tr>\n",
       "    <tr>\n",
       "      <th>1</th>\n",
       "      <td>197671</td>\n",
       "      <td>24.0</td>\n",
       "      <td>1.0</td>\n",
       "      <td>train</td>\n",
       "      <td>1.00</td>\n",
       "      <td>2022-09-25 16:12:58</td>\n",
       "      <td>Кинг Фри станд</td>\n",
       "      <td>300.0</td>\n",
       "      <td>Отдельно стоящий без внешней зоны</td>\n",
       "      <td>Фри</td>\n",
       "      <td>0</td>\n",
       "      <td>300.0</td>\n",
       "    </tr>\n",
       "    <tr>\n",
       "      <th>2</th>\n",
       "      <td>199749</td>\n",
       "      <td>NaN</td>\n",
       "      <td>0.0</td>\n",
       "      <td>train</td>\n",
       "      <td>94.99</td>\n",
       "      <td>2023-04-22 13:47:35</td>\n",
       "      <td>Кинг Фри станд</td>\n",
       "      <td>300.0</td>\n",
       "      <td>Отдельно стоящий без внешней зоны</td>\n",
       "      <td>Фри</td>\n",
       "      <td>0</td>\n",
       "      <td>300.0</td>\n",
       "    </tr>\n",
       "  </tbody>\n",
       "</table>\n",
       "</div>"
      ],
      "text/plain": [
       "   customer_id  date_diff_post  buy_post group_name  revenue  \\\n",
       "0        29891             9.0       1.0      train    69.99   \n",
       "1       197671            24.0       1.0      train     1.00   \n",
       "2       199749             NaN       0.0      train    94.99   \n",
       "\n",
       "        startdatetime       dish_name  ownareaall_sqm  \\\n",
       "0 2022-12-05 12:03:58  Кинг Фри станд           300.0   \n",
       "1 2022-09-25 16:12:58  Кинг Фри станд           300.0   \n",
       "2 2023-04-22 13:47:35  Кинг Фри станд           300.0   \n",
       "\n",
       "                         format_name dish_cat  place_id  \\\n",
       "0  Отдельно стоящий без внешней зоны      Фри         0   \n",
       "1  Отдельно стоящий без внешней зоны      Фри         0   \n",
       "2  Отдельно стоящий без внешней зоны      Фри         0   \n",
       "\n",
       "   correct_ownareaall_sqm  \n",
       "0                   300.0  \n",
       "1                   300.0  \n",
       "2                   300.0  "
      ]
     },
     "execution_count": 15,
     "metadata": {},
     "output_type": "execute_result"
    }
   ],
   "source": [
    "union_burger_df.head(3)"
   ]
  },
  {
   "cell_type": "markdown",
   "metadata": {},
   "source": [
    "### Формирование фич\n",
    "Будем использовать бустинги  \n",
    "Одна запись это 1 клиент  \n",
    "Все данные по покупкам превращаем в фичи  "
   ]
  },
  {
   "cell_type": "code",
   "execution_count": 16,
   "metadata": {
    "scrolled": true
   },
   "outputs": [],
   "source": [
    "# burger_df[burger_df['customer_id'] == 29891]"
   ]
  },
  {
   "cell_type": "code",
   "execution_count": 17,
   "metadata": {},
   "outputs": [
    {
     "name": "stderr",
     "output_type": "stream",
     "text": [
      "C:\\Users\\Profit77\\AppData\\Local\\Temp\\ipykernel_1952\\3234485552.py:11: FutureWarning: Series.dt.weekofyear and Series.dt.week have been deprecated. Please use Series.dt.isocalendar().week instead.\n",
      "  union_burger_df['week'] = union_burger_df['startdatetime'].dt.week\n"
     ]
    }
   ],
   "source": [
    "# Раскладываем даты по возможным начениям\n",
    "union_burger_df['date'] = union_burger_df['startdatetime'].dt.date\n",
    "union_burger_df['date'] = pd.to_datetime(union_burger_df['date'])\n",
    "union_burger_df['year'] = union_burger_df['startdatetime'].dt.year\n",
    "union_burger_df['month'] = union_burger_df['startdatetime'].dt.month\n",
    "union_burger_df['day'] = union_burger_df['startdatetime'].dt.day\n",
    "union_burger_df['day_of_week'] = union_burger_df['startdatetime'].dt.day_of_week\n",
    "union_burger_df['day_of_year'] = union_burger_df['startdatetime'].dt.day_of_year\n",
    "union_burger_df['days_in_month'] = union_burger_df['startdatetime'].dt.days_in_month\n",
    "union_burger_df['quarter'] = union_burger_df['startdatetime'].dt.quarter\n",
    "union_burger_df['week'] = union_burger_df['startdatetime'].dt.week\n",
    "union_burger_df['hour'] = union_burger_df['startdatetime'].dt.hour\n",
    "\n",
    "# Для группировки данных по дням определяем начальную дату и сколько прошло дней с этого момента\n",
    "date_2022 = datetime.strptime(\"2022-01-01\", \"%Y-%m-%d\", ).replace(tzinfo=None)\n",
    "union_burger_df['day_count'] = ((union_burger_df['startdatetime'] - date_2022) / np.timedelta64(1, 'D')).astype(int)\n",
    "# Для группировки данных по три часа также устанавливаем для каждой значения группу\n",
    "union_burger_df['hour_count'] = ((union_burger_df['startdatetime'] - date_2022) / np.timedelta64(3, 'h')).astype(int)"
   ]
  },
  {
   "cell_type": "code",
   "execution_count": 18,
   "metadata": {},
   "outputs": [],
   "source": [
    "# Определяем время дня: утро/день/вечер\n",
    "def time_of_day(row):\n",
    "    hour = row.hour\n",
    "    if 6 <= hour < 12:\n",
    "        return 'morning'\n",
    "    elif 12 <= hour < 18:\n",
    "        return 'day'\n",
    "    else:\n",
    "        return 'evening'\n",
    "\n",
    "union_burger_df['times_of_day'] = union_burger_df['startdatetime'].apply(time_of_day)"
   ]
  },
  {
   "cell_type": "code",
   "execution_count": 19,
   "metadata": {},
   "outputs": [],
   "source": [
    "# one_hot_encoding = pd.get_dummies(burger_df['times_of_day'], prefix='time_')\n",
    "# df_concat = pd.concat([df_concat, one_hot_encoding], axis=1)\n",
    "# df_concat"
   ]
  },
  {
   "cell_type": "code",
   "execution_count": 20,
   "metadata": {},
   "outputs": [],
   "source": [
    "# Создаем датафрейм для итоговых агрегатов по клиентам\n",
    "customer_df = pd.DataFrame()"
   ]
  },
  {
   "cell_type": "code",
   "execution_count": 21,
   "metadata": {},
   "outputs": [],
   "source": [
    "# pd.DataFrame(position_by_day_df).reset_index().groupby(by=['customer_id'])['dish_name'].mean()\n",
    "# burger_df.groupby(by=['customer_id'])['dish_name'].mean()"
   ]
  },
  {
   "cell_type": "code",
   "execution_count": 22,
   "metadata": {},
   "outputs": [],
   "source": [
    "# Сколько позиций в заданный период времени\n",
    "def calc_position_by_time(df, period_column:str='day_count'):\n",
    "    position_by_time = df.groupby(by=['customer_id', period_column])['dish_name'].count()\n",
    "    mean_position_by_time = pd.DataFrame(position_by_time).reset_index().groupby(by=['customer_id'])['dish_name'].mean()\n",
    "    mean_position_by_time = pd.DataFrame(mean_position_by_time).reset_index()\n",
    "    mean_position_by_time = mean_position_by_time.rename(columns={'dish_name':f'mean_position_by_{period_column}'}).set_index('customer_id')\n",
    "    return mean_position_by_time\n"
   ]
  },
  {
   "cell_type": "code",
   "execution_count": 23,
   "metadata": {},
   "outputs": [
    {
     "data": {
      "text/plain": [
       "(612334, 3)"
      ]
     },
     "execution_count": 23,
     "metadata": {},
     "output_type": "execute_result"
    }
   ],
   "source": [
    "# Сколько позиций в день\n",
    "mean_position_by_day = calc_position_by_time(union_burger_df, period_column='day_count')\n",
    "# Сколько позиций в три часа\n",
    "mean_position_by_3hour = calc_position_by_time(union_burger_df, period_column='hour_count')\n",
    "# Сколько позиций в час\n",
    "mean_position_by_hour = calc_position_by_time(union_burger_df, period_column='hour')\n",
    "\n",
    "customer_df = pd.concat([customer_df, mean_position_by_day, mean_position_by_3hour, mean_position_by_hour], axis=1)\n",
    "customer_df.shape"
   ]
  },
  {
   "cell_type": "code",
   "execution_count": 24,
   "metadata": {},
   "outputs": [],
   "source": [
    "# Формируем сгруппированый датафрейм по посещениям за каждый день по каждому клиенту\n",
    "visited_days_df = union_burger_df.groupby(by=['customer_id', 'date'])['dish_name'].count()\n",
    "visited_days_df = pd.DataFrame(visited_days_df).reset_index()"
   ]
  },
  {
   "cell_type": "code",
   "execution_count": 25,
   "metadata": {},
   "outputs": [],
   "source": [
    "def calc_stat_visited_by_period(period:str='1D'):\n",
    "    calc_visited_df = pd.DataFrame([])\n",
    "    select_group_visited = visited_days_df.set_index('date').groupby('customer_id')['customer_id'].rolling(period).count().groupby(by=['customer_id'])\n",
    "    # calc_visited_df[f'count_visited_by_{period}'] = select_group_visited.count()\n",
    "    calc_visited_df[f'max_visited_by_{period}'] = select_group_visited.max()\n",
    "    calc_visited_df[f'mean_visited_by_{period}'] = select_group_visited.mean()\n",
    "    return calc_visited_df"
   ]
  },
  {
   "cell_type": "code",
   "execution_count": 26,
   "metadata": {
    "scrolled": true
   },
   "outputs": [
    {
     "name": "stderr",
     "output_type": "stream",
     "text": [
      "\r",
      "  0%|          | 0/12 [00:00<?, ?it/s]"
     ]
    },
    {
     "name": "stdout",
     "output_type": "stream",
     "text": [
      "calc period: 2D\n"
     ]
    },
    {
     "name": "stderr",
     "output_type": "stream",
     "text": [
      "\r",
      "  8%|▊         | 1/12 [00:12<02:12, 12.04s/it]"
     ]
    },
    {
     "name": "stdout",
     "output_type": "stream",
     "text": [
      "calc period: 3D\n"
     ]
    },
    {
     "name": "stderr",
     "output_type": "stream",
     "text": [
      "\r",
      " 17%|█▋        | 2/12 [00:23<01:59, 11.94s/it]"
     ]
    },
    {
     "name": "stdout",
     "output_type": "stream",
     "text": [
      "calc period: 5D\n"
     ]
    },
    {
     "name": "stderr",
     "output_type": "stream",
     "text": [
      "\r",
      " 25%|██▌       | 3/12 [00:35<01:47, 11.93s/it]"
     ]
    },
    {
     "name": "stdout",
     "output_type": "stream",
     "text": [
      "calc period: 7D\n"
     ]
    },
    {
     "name": "stderr",
     "output_type": "stream",
     "text": [
      "\r",
      " 33%|███▎      | 4/12 [00:47<01:35, 11.92s/it]"
     ]
    },
    {
     "name": "stdout",
     "output_type": "stream",
     "text": [
      "calc period: 14D\n"
     ]
    },
    {
     "name": "stderr",
     "output_type": "stream",
     "text": [
      "\r",
      " 42%|████▏     | 5/12 [00:59<01:23, 11.92s/it]"
     ]
    },
    {
     "name": "stdout",
     "output_type": "stream",
     "text": [
      "calc period: 21D\n"
     ]
    },
    {
     "name": "stderr",
     "output_type": "stream",
     "text": [
      "\r",
      " 50%|█████     | 6/12 [01:11<01:11, 11.89s/it]"
     ]
    },
    {
     "name": "stdout",
     "output_type": "stream",
     "text": [
      "calc period: 30D\n"
     ]
    },
    {
     "name": "stderr",
     "output_type": "stream",
     "text": [
      "\r",
      " 58%|█████▊    | 7/12 [01:23<00:59, 11.89s/it]"
     ]
    },
    {
     "name": "stdout",
     "output_type": "stream",
     "text": [
      "calc period: 50D\n"
     ]
    },
    {
     "name": "stderr",
     "output_type": "stream",
     "text": [
      "\r",
      " 67%|██████▋   | 8/12 [01:35<00:47, 11.89s/it]"
     ]
    },
    {
     "name": "stdout",
     "output_type": "stream",
     "text": [
      "calc period: 60D\n"
     ]
    },
    {
     "name": "stderr",
     "output_type": "stream",
     "text": [
      "\r",
      " 75%|███████▌  | 9/12 [01:47<00:35, 11.90s/it]"
     ]
    },
    {
     "name": "stdout",
     "output_type": "stream",
     "text": [
      "calc period: 100D\n"
     ]
    },
    {
     "name": "stderr",
     "output_type": "stream",
     "text": [
      "\r",
      " 83%|████████▎ | 10/12 [01:59<00:23, 11.89s/it]"
     ]
    },
    {
     "name": "stdout",
     "output_type": "stream",
     "text": [
      "calc period: 150D\n"
     ]
    },
    {
     "name": "stderr",
     "output_type": "stream",
     "text": [
      "\r",
      " 92%|█████████▏| 11/12 [02:10<00:11, 11.89s/it]"
     ]
    },
    {
     "name": "stdout",
     "output_type": "stream",
     "text": [
      "calc period: 200D\n"
     ]
    },
    {
     "name": "stderr",
     "output_type": "stream",
     "text": [
      "100%|██████████| 12/12 [02:22<00:00, 11.90s/it]"
     ]
    },
    {
     "name": "stdout",
     "output_type": "stream",
     "text": [
      "CPU times: total: 2min 34s\n",
      "Wall time: 2min 34s\n"
     ]
    },
    {
     "name": "stderr",
     "output_type": "stream",
     "text": [
      "\n"
     ]
    },
    {
     "data": {
      "text/plain": [
       "(612334, 25)"
      ]
     },
     "execution_count": 26,
     "metadata": {},
     "output_type": "execute_result"
    }
   ],
   "source": [
    "%%time\n",
    "union_visited_df = pd.DataFrame(visited_days_df.set_index('date').groupby('customer_id')['customer_id'].rolling('1D').count().groupby(by=['customer_id']).count().rename('count_visited'))\n",
    "for period in tqdm(['2D', '3D', '5D', '7D', '14D', '21D', '30D', '50D', '60D', '100D', '150D', '200D']):\n",
    "    print(f'calc period: {period}')\n",
    "    visited_df = calc_stat_visited_by_period(period=period)\n",
    "    union_visited_df = pd.concat([union_visited_df, visited_df], axis=1)\n",
    "union_visited_df.shape"
   ]
  },
  {
   "cell_type": "code",
   "execution_count": 27,
   "metadata": {},
   "outputs": [
    {
     "data": {
      "text/plain": [
       "(612334, 28)"
      ]
     },
     "execution_count": 27,
     "metadata": {},
     "output_type": "execute_result"
    }
   ],
   "source": [
    "customer_df = pd.concat([customer_df, union_visited_df], axis=1)\n",
    "customer_df.shape"
   ]
  },
  {
   "cell_type": "code",
   "execution_count": 28,
   "metadata": {
    "scrolled": true
   },
   "outputs": [
    {
     "data": {
      "text/plain": [
       "(14627418, 25)"
      ]
     },
     "execution_count": 28,
     "metadata": {},
     "output_type": "execute_result"
    }
   ],
   "source": [
    "union_burger_df.shape"
   ]
  },
  {
   "cell_type": "code",
   "execution_count": 29,
   "metadata": {
    "scrolled": true
   },
   "outputs": [],
   "source": [
    "# Временные фичи"
   ]
  },
  {
   "cell_type": "code",
   "execution_count": 30,
   "metadata": {},
   "outputs": [
    {
     "data": {
      "text/plain": [
       "(612334, 42)"
      ]
     },
     "execution_count": 30,
     "metadata": {},
     "output_type": "execute_result"
    }
   ],
   "source": [
    "# В качестве общих признаков по дате используем последние записи по сгруппированным по клиенту данным\n",
    "last_row_burger_columns = ['format_name', 'year', 'month', 'day', \n",
    "                         'day_count', 'day_of_week', 'day_of_year', \n",
    "                         'days_in_month', 'quarter', 'week', \n",
    "                         'hour_count', 'hour', 'date', 'correct_ownareaall_sqm']\n",
    "last_row_df = union_burger_df[['customer_id', 'startdatetime'] + last_row_burger_columns].sort_values(by='startdatetime').groupby(by=['customer_id'])[last_row_burger_columns].last()\n",
    "customer_df = pd.concat([customer_df, last_row_df], axis=1)\n",
    "customer_df.shape"
   ]
  },
  {
   "cell_type": "code",
   "execution_count": 31,
   "metadata": {},
   "outputs": [],
   "source": [
    "# Рабочий день или выходной/праздничный\n",
    "prazdniki = ['2022-11-04', '2022-12-31', '2023-01-01', '2023-01-02', '2023-01-03', '2023-01-04', '2023-01-05', \n",
    "             '2023-01-06', '2023-02-23', '2023-02-24', '2023-03-08', '2023-05-01','2023-05-08', '2023-05-09', '2023-06-12',]\n",
    "# union_burger_df['is_work_day'] = np.where(( (union_burger_df['date'].isin(prazdniki)) | (union_burger_df['day_of_week'] >=5)), 0, 1)\n",
    "union_burger_df['type_day'] = np.where(( (union_burger_df['date'].isin(prazdniki)) | (union_burger_df['day_of_week'] >=5)), 'holiday', 'workday')"
   ]
  },
  {
   "cell_type": "code",
   "execution_count": 34,
   "metadata": {},
   "outputs": [],
   "source": [
    "# %%time\n",
    "#if need also category c with no values of 'one'\n",
    "# union_burger_df.groupby(['customer_id', 'date'])['times_of_day'].apply(lambda x: (x=='morning').sum()).reset_index(name='count')\n",
    "# print (df11)"
   ]
  },
  {
   "cell_type": "code",
   "execution_count": 48,
   "metadata": {},
   "outputs": [
    {
     "data": {
      "text/plain": [
       "(14627418, 3)"
      ]
     },
     "execution_count": 48,
     "metadata": {},
     "output_type": "execute_result"
    }
   ],
   "source": [
    "union_burger_df[['customer_id', 'date', 'times_of_day']].drop_duplicates().shape\n"
   ]
  },
  {
   "cell_type": "code",
   "execution_count": 49,
   "metadata": {
    "scrolled": true
   },
   "outputs": [
    {
     "name": "stdout",
     "output_type": "stream",
     "text": [
      "CPU times: total: 2min 14s\n",
      "Wall time: 2min 14s\n"
     ]
    },
    {
     "data": {
      "text/plain": [
       "(612334, 4)"
      ]
     },
     "execution_count": 49,
     "metadata": {},
     "output_type": "execute_result"
    }
   ],
   "source": [
    "%%time\n",
    "# Считаем посещения по клиентам по временам суток\n",
    "visited_time_of_day_df = union_burger_df[['customer_id', 'date', 'times_of_day']].drop_duplicates().groupby(by=['customer_id']).agg(\n",
    "    # Кол-во посещений всего\n",
    "    count_times_of_visited = ('times_of_day', len),\n",
    "    # Кол-во посещений утром\n",
    "    count_times_of_morning = ('times_of_day', lambda x: x.eq('morning').sum()),\n",
    "    # Кол-во посещений днем\n",
    "    count_times_of_day = ('times_of_day', lambda x: x.eq('day').sum()),\n",
    "    # Кол-во посещений вечером\n",
    "    count_times_of_evening = ('times_of_day', lambda x: x.eq('evening').sum()),\n",
    ")\n",
    "visited_time_of_day_df.shape"
   ]
  },
  {
   "cell_type": "code",
   "execution_count": 53,
   "metadata": {},
   "outputs": [
    {
     "data": {
      "text/plain": [
       "(612334, 49)"
      ]
     },
     "execution_count": 53,
     "metadata": {},
     "output_type": "execute_result"
    }
   ],
   "source": [
    "# Считаем долю посещений по временам суток\n",
    "visited_time_of_day_df['prc_morning_visited'] = visited_time_of_day_df['count_times_of_morning']/visited_time_of_day_df['count_times_of_visited']\n",
    "visited_time_of_day_df['prc_day_time_visited'] = visited_time_of_day_df['count_times_of_day']/visited_time_of_day_df['count_times_of_visited']\n",
    "visited_time_of_day_df['prc_evening_visited'] = visited_time_of_day_df['count_times_of_evening']/visited_time_of_day_df['count_times_of_visited']\n",
    "\n",
    "customer_df = pd.concat([customer_df, visited_time_of_day_df], axis=1)\n",
    "customer_df.shape"
   ]
  },
  {
   "cell_type": "code",
   "execution_count": 55,
   "metadata": {},
   "outputs": [
    {
     "name": "stdout",
     "output_type": "stream",
     "text": [
      "CPU times: total: 1min 37s\n",
      "Wall time: 1min 37s\n"
     ]
    },
    {
     "data": {
      "text/plain": [
       "(612334, 3)"
      ]
     },
     "execution_count": 55,
     "metadata": {},
     "output_type": "execute_result"
    }
   ],
   "source": [
    "%%time\n",
    "# Считаем посещения по клиентам из разряда один день одно посещение\n",
    "visited_weekday_df = union_burger_df[['customer_id', 'date', 'type_day']].drop_duplicates().groupby(by=['customer_id']).agg(\n",
    "    # Кол-во посещений всего\n",
    "    count_visited_by_day = ('date', len),\n",
    "    # Кол-во посещений в будни    \n",
    "    count_visited_workday = ('type_day', lambda x: x.eq('workday').sum()),\n",
    "    # Кол-во посещений в выходные\n",
    "    count_visited_holiday = ('type_day', lambda x: x.eq('holiday').sum()),\n",
    ")\n",
    "visited_weekday_df.shape"
   ]
  },
  {
   "cell_type": "code",
   "execution_count": 58,
   "metadata": {},
   "outputs": [
    {
     "data": {
      "text/plain": [
       "(612334, 54)"
      ]
     },
     "execution_count": 58,
     "metadata": {},
     "output_type": "execute_result"
    }
   ],
   "source": [
    "# Считаем долю по типу будни/выходные\n",
    "visited_weekday_df['prc_visited_workday'] = visited_weekday_df['count_visited_workday']/visited_weekday_df['count_visited_by_day']\n",
    "visited_weekday_df['prc_visited_holiday'] = visited_weekday_df['count_visited_holiday']/visited_weekday_df['count_visited_by_day']\n",
    "\n",
    "customer_df = pd.concat([customer_df, visited_weekday_df], axis=1)\n",
    "customer_df.shape"
   ]
  },
  {
   "cell_type": "code",
   "execution_count": 59,
   "metadata": {},
   "outputs": [
    {
     "name": "stdout",
     "output_type": "stream",
     "text": [
      "CPU times: total: 12min 30s\n",
      "Wall time: 12min 30s\n"
     ]
    }
   ],
   "source": [
    "%%time\n",
    "# Считаем временные агрегаты по клиентам\n",
    "count_dish_cat_df = union_burger_df.groupby(by=['customer_id']).agg(\n",
    "    # Кол-во позиций всего\n",
    "    count_revenue = ('revenue', len),\n",
    "    # Кол-во позиций типа Категория Бургер\n",
    "    count_dish_cat_burger = ('dish_cat', lambda x: x.eq('Бургер').sum()),\n",
    "    # Кол-во позиций типа Категория Напитки\n",
    "    count_dish_cat_drink = ('dish_cat', lambda x: x.eq('Напитки').sum()),\n",
    "    # Кол-во позиций типа Категория Воппер\n",
    "    count_dish_cat_vopper = ('dish_cat', lambda x: x.eq('Воппер').sum()),\n",
    "    # Кол-во позиций типа Категория Кофе\n",
    "    count_dish_cat_koffe = ('dish_cat', lambda x: x.eq('Кофе').sum()),\n",
    "    # Кол-во позиций типа Категория Фри\n",
    "    count_dish_cat_fri = ('dish_cat', lambda x: x.eq('Фри').sum()),\n",
    "    # Кол-во позиций типа Категория наггетсы\n",
    "    count_dish_cat_naggets = ('dish_cat', lambda x: x.eq('наггетсы').sum()),\n",
    "    # Кол-во позиций типа Категория Десерты\n",
    "    count_dish_cat_desert = ('dish_cat', lambda x: x.eq('Десерты').sum()),\n",
    "    # Кол-во позиций типа Категория Ролл\n",
    "    count_dish_cat_roll = ('dish_cat', lambda x: x.eq('Ролл').sum()),\n",
    "    # Кол-во позиций типа Категория чипсы\n",
    "    count_dish_cat_chips = ('dish_cat', lambda x: x.eq('чипсы').sum()),\n",
    "    # Кол-во позиций типа Категория Прочее\n",
    "    count_dish_cat_other = ('dish_cat', lambda x: x.eq('Прочее').sum()),\n",
    "    # Кол-во позиций типа Категория соус\n",
    "    count_dish_cat_sous = ('dish_cat', lambda x: x.eq('соус').sum()),\n",
    "    # Кол-во позиций типа Категория Пиво\n",
    "    count_dish_cat_beer = ('dish_cat', lambda x: x.eq('Пиво').sum()),\n",
    "    # Кол-во позиций типа Категория Шейк\n",
    "    count_dish_cat_sheik = ('dish_cat', lambda x: x.eq('Шейк').sum()),\n",
    "    # Кол-во позиций типа Категория Креветки\n",
    "    count_dish_cat_krevetki = ('dish_cat', lambda x: x.eq('Креветки').sum()),\n",
    "    # Кол-во позиций типа Категория Салфетка\n",
    "    count_dish_cat_paper = ('dish_cat', lambda x: x.eq('Салфетка').sum()),\n",
    "    # Кол-во позиций типа Категория Салат\n",
    "    count_dish_cat_salat = ('dish_cat', lambda x: x.eq('Салат').sum()),\n",
    "    # Кол-во позиций типа Категория Чай\n",
    "    count_dish_cat_tie = ('dish_cat', lambda x: x.eq('Чай').sum()),\n",
    ")\n",
    "count_dish_cat_df.shape"
   ]
  },
  {
   "cell_type": "code",
   "execution_count": 63,
   "metadata": {},
   "outputs": [
    {
     "data": {
      "text/plain": [
       "(612334, 35)"
      ]
     },
     "execution_count": 63,
     "metadata": {},
     "output_type": "execute_result"
    }
   ],
   "source": [
    "# Рассчитываем долю типов продуктов\n",
    "count_dish_cat_df['prc_dish_cat_burger'] = count_dish_cat_df['count_dish_cat_burger']/count_dish_cat_df['count_revenue']\n",
    "count_dish_cat_df['prc_dish_cat_drink'] = count_dish_cat_df['count_dish_cat_drink']/count_dish_cat_df['count_revenue']\n",
    "count_dish_cat_df['prc_dish_cat_vopper'] = count_dish_cat_df['count_dish_cat_vopper']/count_dish_cat_df['count_revenue']\n",
    "count_dish_cat_df['prc_dish_cat_koffe'] = count_dish_cat_df['count_dish_cat_koffe']/count_dish_cat_df['count_revenue']\n",
    "count_dish_cat_df['prc_dish_cat_fri'] = count_dish_cat_df['count_dish_cat_fri']/count_dish_cat_df['count_revenue']\n",
    "count_dish_cat_df['prc_dish_cat_naggets'] = count_dish_cat_df['count_dish_cat_naggets']/count_dish_cat_df['count_revenue']\n",
    "count_dish_cat_df['prc_dish_cat_desert'] = count_dish_cat_df['count_dish_cat_desert']/count_dish_cat_df['count_revenue']\n",
    "count_dish_cat_df['prc_dish_cat_roll'] = count_dish_cat_df['count_dish_cat_roll']/count_dish_cat_df['count_revenue']\n",
    "count_dish_cat_df['prc_dish_cat_chips'] = count_dish_cat_df['count_dish_cat_chips']/count_dish_cat_df['count_revenue']\n",
    "count_dish_cat_df['prc_dish_cat_other'] = count_dish_cat_df['count_dish_cat_other']/count_dish_cat_df['count_revenue']\n",
    "count_dish_cat_df['prc_dish_cat_sous'] = count_dish_cat_df['count_dish_cat_sous']/count_dish_cat_df['count_revenue']\n",
    "count_dish_cat_df['prc_dish_cat_beer'] = count_dish_cat_df['count_dish_cat_beer']/count_dish_cat_df['count_revenue']\n",
    "count_dish_cat_df['prc_dish_cat_sheik'] = count_dish_cat_df['count_dish_cat_sheik']/count_dish_cat_df['count_revenue']\n",
    "count_dish_cat_df['prc_dish_cat_krevetki'] = count_dish_cat_df['count_dish_cat_krevetki']/count_dish_cat_df['count_revenue']\n",
    "count_dish_cat_df['prc_dish_cat_paper'] = count_dish_cat_df['count_dish_cat_paper']/count_dish_cat_df['count_revenue']\n",
    "count_dish_cat_df['prc_dish_cat_salat'] = count_dish_cat_df['count_dish_cat_salat']/count_dish_cat_df['count_revenue']\n",
    "count_dish_cat_df['prc_dish_cat_tie'] = count_dish_cat_df['count_dish_cat_tie']/count_dish_cat_df['count_revenue']\n",
    "\n",
    "count_dish_cat_df.shape"
   ]
  },
  {
   "cell_type": "code",
   "execution_count": 64,
   "metadata": {},
   "outputs": [
    {
     "data": {
      "text/plain": [
       "(612334, 89)"
      ]
     },
     "execution_count": 64,
     "metadata": {},
     "output_type": "execute_result"
    }
   ],
   "source": [
    "customer_df = pd.concat([customer_df, count_dish_cat_df], axis=1)\n",
    "customer_df.shape"
   ]
  },
  {
   "cell_type": "code",
   "execution_count": 65,
   "metadata": {},
   "outputs": [
    {
     "data": {
      "text/plain": [
       "(612334, 91)"
      ]
     },
     "execution_count": 65,
     "metadata": {},
     "output_type": "execute_result"
    }
   ],
   "source": [
    "# Определяем таргеты для клиента, просто последня запись по сгруппированным по клиенту данным\n",
    "target_df = union_burger_df.groupby(by=['customer_id'])[['buy_post', 'date_diff_post']].last()\n",
    "customer_df = pd.concat([customer_df, target_df], axis=1)\n",
    "customer_df.shape"
   ]
  },
  {
   "cell_type": "code",
   "execution_count": 69,
   "metadata": {},
   "outputs": [
    {
     "data": {
      "text/plain": [
       "(612334, 92)"
      ]
     },
     "execution_count": 69,
     "metadata": {},
     "output_type": "execute_result"
    }
   ],
   "source": [
    "# Сколько уникальных мест посещал клиент или только в один ходит\n",
    "# count_uniq_place_df = burger_df.groupby(by=['customer_id']).agg({\"place_id\": pd.Series.nunique}).rename(columns={'place_id': 'count_uniq_place'})\n",
    "count_uniq_place_df = union_burger_df.groupby(by=['customer_id']).agg(count_uniq_place=(\"place_id\", pd.Series.nunique))\n",
    "customer_df = pd.concat([customer_df, count_uniq_place_df], axis=1)\n",
    "customer_df.shape"
   ]
  },
  {
   "cell_type": "code",
   "execution_count": 70,
   "metadata": {
    "scrolled": true
   },
   "outputs": [
    {
     "data": {
      "text/plain": [
       "(692, 1)"
      ]
     },
     "execution_count": 70,
     "metadata": {},
     "output_type": "execute_result"
    }
   ],
   "source": [
    "# Кол-во положительных клиентов (оставшихся) по трейну\n",
    "count_good_customers_df = union_burger_df.groupby(by=['place_id', 'customer_id']).agg(count_good_customers = ('buy_post', lambda x: x.eq(1).sum())).clip(upper=1).groupby(by=['place_id']).sum()\n",
    "count_good_customers_df.shape"
   ]
  },
  {
   "cell_type": "code",
   "execution_count": 71,
   "metadata": {
    "scrolled": false
   },
   "outputs": [
    {
     "data": {
      "text/plain": [
       "(692, 8)"
      ]
     },
     "execution_count": 71,
     "metadata": {},
     "output_type": "execute_result"
    }
   ],
   "source": [
    "%%time\n",
    "# Считаем агрегаты для опредлеенного места\n",
    "place_features_df = union_burger_df.groupby(by=['place_id']).agg(\n",
    "    # Кол-во уникальных клиентов\n",
    "    count_uniq_customers = ('customer_id', pd.Series.nunique),\n",
    "    # Сумма чека по всем продуктам\n",
    "    sum_revenue = ('revenue', np.sum),\n",
    "    # Средняя сумма по каждой позиции\n",
    "    mean_one_revenue = ('revenue', np.mean),\n",
    "    # Медиана сумма по каждой позиции\n",
    "    median_one_revenue = ('revenue', np.median),\n",
    "    # Кол-во позиций всего\n",
    "    count_revenue = ('revenue', len),\n",
    "    # Минимальное число дней, через сколько приходят клиенты\n",
    "    min_diff_post = ('date_diff_post', np.min),\n",
    "    # Медианное число дней, через сколько приходят клиенты\n",
    "    median_diff_post = ('date_diff_post', np.median),\n",
    "    # Максимальное число дней, через сколько приходят клиенты\n",
    "    max_diff_post = ('date_diff_post', np.max),\n",
    ")\n",
    "place_features_df.shape"
   ]
  },
  {
   "cell_type": "code",
   "execution_count": 72,
   "metadata": {},
   "outputs": [],
   "source": [
    "# Добавляем Кол-во положительных клиентов по месту\n",
    "place_features_df = place_features_df.merge(count_good_customers_df, on='place_id')"
   ]
  },
  {
   "cell_type": "code",
   "execution_count": 73,
   "metadata": {},
   "outputs": [],
   "source": [
    "# Рассчитываем доп характеристики по месту \n",
    "place_features_df['prc_good_customers'] = place_features_df['count_good_customers']/place_features_df['count_uniq_customers']\n",
    "place_features_df['mean_revenue_by_client'] = place_features_df['sum_revenue']/place_features_df['count_uniq_customers']\n",
    "place_features_df['mean_revenue'] = place_features_df['sum_revenue']/place_features_df['count_revenue']"
   ]
  },
  {
   "cell_type": "code",
   "execution_count": 74,
   "metadata": {},
   "outputs": [
    {
     "data": {
      "text/plain": [
       "(612334, 2)"
      ]
     },
     "execution_count": 74,
     "metadata": {},
     "output_type": "execute_result"
    }
   ],
   "source": [
    "# Определяем приоритетное кафе у клиента\n",
    "client_pop_place_df = union_burger_df.groupby(by=['customer_id', 'place_id']).agg(count_visit=('buy_post', len))\n",
    "client_pop_place_df = client_pop_place_df.reset_index()\n",
    "\n",
    "# Ищем какие места клиент посещал чаще других, в случаи совпадений берем последний\n",
    "client_pop_place_df = client_pop_place_df[client_pop_place_df['count_visit'] == client_pop_place_df.groupby(['customer_id'])['count_visit'].transform(max)]\n",
    "client_pop_place_df = client_pop_place_df.groupby(by=['customer_id']).last()\n",
    "client_pop_place_df = client_pop_place_df.rename(columns={'place_id': 'pop_place_id', 'count_visit': 'count_visit_pop_place'})\n",
    "client_pop_place_df.shape"
   ]
  },
  {
   "cell_type": "code",
   "execution_count": 75,
   "metadata": {
    "scrolled": true
   },
   "outputs": [
    {
     "data": {
      "text/plain": [
       "(612334, 94)"
      ]
     },
     "execution_count": 75,
     "metadata": {},
     "output_type": "execute_result"
    }
   ],
   "source": [
    "customer_df = customer_df.merge(client_pop_place_df, on='customer_id')\n",
    "customer_df.shape"
   ]
  },
  {
   "cell_type": "code",
   "execution_count": 77,
   "metadata": {
    "scrolled": true
   },
   "outputs": [
    {
     "data": {
      "text/plain": [
       "(612334, 106)"
      ]
     },
     "execution_count": 77,
     "metadata": {},
     "output_type": "execute_result"
    }
   ],
   "source": [
    "customer_df = customer_df.reset_index().merge(place_features_df, left_on='pop_place_id', right_on='place_id')\n",
    "customer_df = customer_df.set_index('customer_id')\n",
    "customer_df.shape"
   ]
  },
  {
   "cell_type": "code",
   "execution_count": null,
   "metadata": {},
   "outputs": [],
   "source": []
  },
  {
   "cell_type": "code",
   "execution_count": 269,
   "metadata": {},
   "outputs": [],
   "source": [
    "# df_grouped = tmp_df.groupby(['customer_id', 'place_id']).agg({'count_visit':'max'})\n",
    "# # df_grouped = df_grouped.reset_index()\n",
    "# # df_grouped = df_grouped.rename(columns={'count_visit':'count_max'})\n",
    "# # tmp_df_2 = pd.merge(tmp_df, df_grouped, how='left', on=['customer_id', 'place_id'])\n",
    "# # # tmp_df_2 = tmp_df[tmp_df['count_visit'] == tmp_df['count_max']]\n",
    "# # tmp_df_2\n",
    "# df_grouped"
   ]
  },
  {
   "cell_type": "code",
   "execution_count": 270,
   "metadata": {},
   "outputs": [],
   "source": [
    "# tmp_df[tmp_df['customer_id'] == 29891].groupby(['customer_id', 'place_id'])[\"count_visit\"].idxmax()\n",
    "# # tmp_df.groupby(['customer_id', 'place_id'])[\"count_visit\"].idxmax()"
   ]
  },
  {
   "cell_type": "code",
   "execution_count": 271,
   "metadata": {},
   "outputs": [],
   "source": [
    "# tmp_df.loc[tmp_df.groupby(['customer_id', 'place_id'])[\"count_visit\"].idxmax()]"
   ]
  },
  {
   "cell_type": "code",
   "execution_count": 272,
   "metadata": {},
   "outputs": [],
   "source": [
    "# # tmp_df2 = tmp_df.sort_values('count_visit').drop_duplicates(['customer_id', 'place_id'], keep='last')\n",
    "# tmp_df2 = tmp_df.sort_values('count_visit').groupby(['customer_id', 'place_id']).tail(1)"
   ]
  },
  {
   "cell_type": "code",
   "execution_count": null,
   "metadata": {},
   "outputs": [],
   "source": [
    "\n"
   ]
  },
  {
   "cell_type": "code",
   "execution_count": 384,
   "metadata": {},
   "outputs": [],
   "source": [
    "# burger_df.groupby(['customer_id','month']).size().reset_index(name='freq')"
   ]
  },
  {
   "cell_type": "code",
   "execution_count": 99,
   "metadata": {
    "scrolled": true
   },
   "outputs": [
    {
     "data": {
      "text/html": [
       "<div>\n",
       "<style scoped>\n",
       "    .dataframe tbody tr th:only-of-type {\n",
       "        vertical-align: middle;\n",
       "    }\n",
       "\n",
       "    .dataframe tbody tr th {\n",
       "        vertical-align: top;\n",
       "    }\n",
       "\n",
       "    .dataframe thead tr th {\n",
       "        text-align: left;\n",
       "    }\n",
       "\n",
       "    .dataframe thead tr:last-of-type th {\n",
       "        text-align: right;\n",
       "    }\n",
       "</style>\n",
       "<table border=\"1\" class=\"dataframe\">\n",
       "  <thead>\n",
       "    <tr>\n",
       "      <th></th>\n",
       "      <th colspan=\"4\" halign=\"left\">day</th>\n",
       "      <th colspan=\"4\" halign=\"left\">month</th>\n",
       "    </tr>\n",
       "    <tr>\n",
       "      <th></th>\n",
       "      <th>mean</th>\n",
       "      <th>median</th>\n",
       "      <th>min</th>\n",
       "      <th>max</th>\n",
       "      <th>mean</th>\n",
       "      <th>median</th>\n",
       "      <th>min</th>\n",
       "      <th>max</th>\n",
       "    </tr>\n",
       "    <tr>\n",
       "      <th>customer_id</th>\n",
       "      <th></th>\n",
       "      <th></th>\n",
       "      <th></th>\n",
       "      <th></th>\n",
       "      <th></th>\n",
       "      <th></th>\n",
       "      <th></th>\n",
       "      <th></th>\n",
       "    </tr>\n",
       "  </thead>\n",
       "  <tbody>\n",
       "    <tr>\n",
       "      <th>29891</th>\n",
       "      <td>18.911765</td>\n",
       "      <td>21.5</td>\n",
       "      <td>1</td>\n",
       "      <td>31</td>\n",
       "      <td>8.794118</td>\n",
       "      <td>12.0</td>\n",
       "      <td>1</td>\n",
       "      <td>12</td>\n",
       "    </tr>\n",
       "    <tr>\n",
       "      <th>30477</th>\n",
       "      <td>14.721311</td>\n",
       "      <td>15.0</td>\n",
       "      <td>1</td>\n",
       "      <td>31</td>\n",
       "      <td>10.590164</td>\n",
       "      <td>11.0</td>\n",
       "      <td>10</td>\n",
       "      <td>11</td>\n",
       "    </tr>\n",
       "    <tr>\n",
       "      <th>31426</th>\n",
       "      <td>14.604651</td>\n",
       "      <td>14.0</td>\n",
       "      <td>1</td>\n",
       "      <td>31</td>\n",
       "      <td>5.906977</td>\n",
       "      <td>6.0</td>\n",
       "      <td>5</td>\n",
       "      <td>7</td>\n",
       "    </tr>\n",
       "    <tr>\n",
       "      <th>44491</th>\n",
       "      <td>9.600000</td>\n",
       "      <td>10.0</td>\n",
       "      <td>8</td>\n",
       "      <td>11</td>\n",
       "      <td>6.300000</td>\n",
       "      <td>6.0</td>\n",
       "      <td>6</td>\n",
       "      <td>7</td>\n",
       "    </tr>\n",
       "    <tr>\n",
       "      <th>44939</th>\n",
       "      <td>16.720000</td>\n",
       "      <td>17.0</td>\n",
       "      <td>10</td>\n",
       "      <td>25</td>\n",
       "      <td>12.000000</td>\n",
       "      <td>12.0</td>\n",
       "      <td>12</td>\n",
       "      <td>12</td>\n",
       "    </tr>\n",
       "    <tr>\n",
       "      <th>45006</th>\n",
       "      <td>17.368421</td>\n",
       "      <td>18.0</td>\n",
       "      <td>7</td>\n",
       "      <td>25</td>\n",
       "      <td>5.157895</td>\n",
       "      <td>5.0</td>\n",
       "      <td>5</td>\n",
       "      <td>6</td>\n",
       "    </tr>\n",
       "    <tr>\n",
       "      <th>45038</th>\n",
       "      <td>12.722222</td>\n",
       "      <td>8.0</td>\n",
       "      <td>8</td>\n",
       "      <td>19</td>\n",
       "      <td>3.555556</td>\n",
       "      <td>4.0</td>\n",
       "      <td>3</td>\n",
       "      <td>4</td>\n",
       "    </tr>\n",
       "  </tbody>\n",
       "</table>\n",
       "</div>"
      ],
      "text/plain": [
       "                   day                     month               \n",
       "                  mean median min max       mean median min max\n",
       "customer_id                                                    \n",
       "29891        18.911765   21.5   1  31   8.794118   12.0   1  12\n",
       "30477        14.721311   15.0   1  31  10.590164   11.0  10  11\n",
       "31426        14.604651   14.0   1  31   5.906977    6.0   5   7\n",
       "44491         9.600000   10.0   8  11   6.300000    6.0   6   7\n",
       "44939        16.720000   17.0  10  25  12.000000   12.0  12  12\n",
       "45006        17.368421   18.0   7  25   5.157895    5.0   5   6\n",
       "45038        12.722222    8.0   8  19   3.555556    4.0   3   4"
      ]
     },
     "execution_count": 99,
     "metadata": {},
     "output_type": "execute_result"
    }
   ],
   "source": [
    "# Частота посещения людьми кафе в определенный день\n",
    "agg_func_math = {\n",
    "    'day': ['mean', 'median', 'min', 'max'],\n",
    "    'month': ['mean', 'median', 'min', 'max']\n",
    "}\n",
    "#burger_df.groupby(by=['customer_id', period_column])['dish_name'].count()\n",
    "burger_df.groupby(by=['customer_id']).agg(agg_func_math).head(7)"
   ]
  },
  {
   "cell_type": "code",
   "execution_count": 100,
   "metadata": {},
   "outputs": [],
   "source": [
    "# Определеяем характеристики мест"
   ]
  },
  {
   "cell_type": "code",
   "execution_count": 31,
   "metadata": {},
   "outputs": [
    {
     "data": {
      "text/plain": [
       "(12129384, 22)"
      ]
     },
     "execution_count": 31,
     "metadata": {},
     "output_type": "execute_result"
    }
   ],
   "source": [
    "burger_df.shape"
   ]
  },
  {
   "cell_type": "markdown",
   "metadata": {},
   "source": [
    "# Модели"
   ]
  },
  {
   "cell_type": "code",
   "execution_count": 78,
   "metadata": {},
   "outputs": [],
   "source": [
    "# Вывод графика feature importance\n",
    "def plot_feature_importance(importance, names, model_name=\"\", top_n=-1, skip_columns=[]):\n",
    "    \"\"\"Функция вывода feature importance\n",
    "        :importance - массив важности фичей, полученный от модели\n",
    "        :names - массив названий фичей\n",
    "        :model_name - название модели\n",
    "        :top_n - кол-во выводимых фичей\n",
    "        :skip_columns: какие фичи пропустить, такое может понадобиться чтобы временно убрать \n",
    "                        из отображаемых горячие фичи, и изучить менее сильные\n",
    "        :return - fi_df - feature importance датафрейм\n",
    "    \"\"\"\n",
    "    feature_importance = np.array(importance)\n",
    "    feature_names = np.array(names)\n",
    "    \n",
    "    data={'feature_names':feature_names,'feature_importance':feature_importance}\n",
    "    fi_df = pd.DataFrame(data)\n",
    "    fi_df = fi_df[~fi_df['feature_names'].isin(skip_columns)]\n",
    "    fi_df.sort_values(by=['feature_importance'], ascending=False,inplace=True)\n",
    "    \n",
    "    plt.figure(figsize=(10,8))\n",
    "    sns.barplot(x=fi_df['feature_importance'][:top_n], y=fi_df['feature_names'][:top_n])\n",
    "    if top_n != -1:\n",
    "        plt.title(f\"{model_name} FEATURE IMPORTANCE (Top: {top_n})\")\n",
    "    else:\n",
    "        plt.title(f\"{model_name} FEATURE IMPORTANCE\")\n",
    "    plt.xlabel('FEATURE IMPORTANCE')\n",
    "    plt.ylabel('FEATURE NAMES')\n",
    "    return fi_df"
   ]
  },
  {
   "cell_type": "code",
   "execution_count": 79,
   "metadata": {},
   "outputs": [],
   "source": [
    "# Вывод графика ROC-AUC\n",
    "def plot_roc_auc(y_true, y_pred):\n",
    "    fpr, tpr, _ = roc_curve(y_true=y_true, y_score=y_pred)\n",
    "    roc_auc = roc_auc_score(y_true=y_true, y_score=y_pred)\n",
    "\n",
    "    plt.figure(figsize=(10, 3))\n",
    "    plt.plot(fpr, tpr, color='darkorange',\n",
    "             lw=2, label='ROC curve (area = %0.4f)' % roc_auc, alpha=0.5)\n",
    "\n",
    "    plt.plot([0, 1], [0, 1], color='navy', lw=2, linestyle='--', alpha=0.5)\n",
    "\n",
    "    plt.xlim([0.0, 1.0])\n",
    "    plt.ylim([0.0, 1.05])\n",
    "    plt.xticks(fontsize=12)\n",
    "    plt.yticks(fontsize=12)\n",
    "    plt.grid(True)\n",
    "    plt.xlabel('False Positive Rate', fontsize=12)\n",
    "    plt.ylabel('True Positive Rate', fontsize=12)\n",
    "    plt.title('Receiver operating characteristic', fontsize=16)\n",
    "    plt.legend(loc=\"lower right\", fontsize=12)\n",
    "    plt.show()\n",
    "    return roc_auc"
   ]
  },
  {
   "cell_type": "code",
   "execution_count": 84,
   "metadata": {
    "scrolled": true
   },
   "outputs": [
    {
     "data": {
      "text/plain": [
       "((500000,), (112334,))"
      ]
     },
     "execution_count": 84,
     "metadata": {},
     "output_type": "execute_result"
    }
   ],
   "source": [
    "train_customers_idx = union_burger_df[union_burger_df['group_name'] == 'train']['customer_id'].unique()\n",
    "test_customers_idx = union_burger_df[union_burger_df['group_name'] == 'test']['customer_id'].unique()\n",
    "train_customers_idx.shape, test_customers_idx.shape"
   ]
  },
  {
   "cell_type": "code",
   "execution_count": 86,
   "metadata": {
    "scrolled": true
   },
   "outputs": [
    {
     "data": {
      "text/plain": [
       "((500000, 107), (112334, 107))"
      ]
     },
     "execution_count": 86,
     "metadata": {},
     "output_type": "execute_result"
    }
   ],
   "source": [
    "customer_df = customer_df.reset_index()\n",
    "train_data_df = customer_df[customer_df['customer_id'].isin(train_customers_idx)]\n",
    "test_data_df = customer_df[customer_df['customer_id'].isin(test_customers_idx)]\n",
    "\n",
    "train_data_df.shape, test_data_df.shape"
   ]
  },
  {
   "cell_type": "code",
   "execution_count": 200,
   "metadata": {},
   "outputs": [],
   "source": [
    "# customer_df.merge(union_burger_df[['group_name', 'customer_id']], on='customer_id', how='left').shape\n"
   ]
  },
  {
   "cell_type": "code",
   "execution_count": 201,
   "metadata": {},
   "outputs": [
    {
     "data": {
      "text/plain": [
       "(612334, 108)"
      ]
     },
     "execution_count": 201,
     "metadata": {},
     "output_type": "execute_result"
    }
   ],
   "source": [
    "save_customer_df = customer_df.copy()\n",
    "save_customer_df.loc[save_customer_df['customer_id'].isin(train_customers_idx), 'group_name'] = 'train'\n",
    "save_customer_df.loc[~save_customer_df['customer_id'].isin(train_customers_idx), 'group_name'] = 'test'\n",
    "save_customer_df.shape"
   ]
  },
  {
   "cell_type": "code",
   "execution_count": 203,
   "metadata": {},
   "outputs": [],
   "source": [
    "save_customer_df.to_parquet('save_customer_df.parquet')"
   ]
  },
  {
   "cell_type": "code",
   "execution_count": null,
   "metadata": {
    "pycharm": {
     "name": "#%%\n"
    }
   },
   "outputs": [],
   "source": []
  }
 ],
 "metadata": {
  "kernelspec": {
   "display_name": "Python 3 (ipykernel)",
   "language": "python",
   "name": "python3"
  },
  "language_info": {
   "codemirror_mode": {
    "name": "ipython",
    "version": 3
   },
   "file_extension": ".py",
   "mimetype": "text/x-python",
   "name": "python",
   "nbconvert_exporter": "python",
   "pygments_lexer": "ipython3",
   "version": "3.11.3"
  }
 },
 "nbformat": 4,
 "nbformat_minor": 1
}
