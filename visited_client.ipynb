{
 "cells": [
  {
   "cell_type": "code",
   "execution_count": 1,
   "id": "af224eef",
   "metadata": {},
   "outputs": [],
   "source": [
    "# Импорт всех нужных библиотек\n",
    "import pandas as pd\n",
    "from sklearn.model_selection import train_test_split\n",
    "from sklearn.ensemble import RandomForestClassifier\n",
    "from sklearn.metrics import classification_report, accuracy_score\n",
    "import matplotlib.pyplot as plt\n",
    "import seaborn as sns"
   ]
  },
  {
   "cell_type": "code",
   "execution_count": 2,
   "id": "23eadefa",
   "metadata": {},
   "outputs": [],
   "source": [
    "# Загрузка данных\n",
    "train_data = pd.read_parquet('train_dataset_hackaton2023_train.parquet')\n",
    "\n",
    "# Преобразование столбца с датой и временем в соответствующий формат\n",
    "train_data['startdatetime'] = pd.to_datetime(train_data['startdatetime'])"
   ]
  },
  {
   "cell_type": "code",
   "execution_count": 3,
   "id": "205c5530",
   "metadata": {},
   "outputs": [],
   "source": [
    "# Извлечение дня недели (где понедельник = 0, воскресенье = 6)\n",
    "train_data['day_of_week'] = train_data['startdatetime'].dt.dayofweek"
   ]
  },
  {
   "cell_type": "code",
   "execution_count": 8,
   "id": "ef8db3a1",
   "metadata": {},
   "outputs": [
    {
     "name": "stdout",
     "output_type": "stream",
     "text": [
      "Количество клиентов с одинаковыми интервалами между более чем двумя покупками: 364\n",
      "ID этих клиентов: [274671, 287550, 419107, 650516, 1483236, 1516020, 1764017, 1830984, 1836809, 1934954, 2070964, 2092991, 2100080, 2145081, 2635398, 2693983, 2756650, 2785066, 2854497, 2938927, 3139573, 3190465, 3827374, 3938194, 4007394, 4093524, 4109974, 4139426, 4621472, 5226306, 5325604, 5658661, 5679329, 5891878, 5949030, 6155659, 6179198, 6206655, 6386089, 6400261, 6513144, 6583065, 6675888, 6686782, 6794406, 6866560, 7071581, 7091479, 7295027, 7316823, 7355240, 7773336, 7776484, 7782210, 8011337, 8209749, 8259996, 8366441, 8439021, 8484098, 8696178, 8828861, 9125515, 9683925, 9731866, 9739350, 10070566, 10164119, 10263719, 10784008, 10893172, 10909939, 10999871, 11059171, 11124428, 11164138, 11353496, 11456790, 11460025, 11551678, 11570944, 11581679, 11612037, 11669243, 11743961, 11912719, 12011652, 12030806, 12045447, 12069034, 12081242, 12097852, 12362038, 12403486, 12404475, 12407663, 12699071, 12774108, 12859365, 12888327, 12888751, 13247298, 13264305, 13590424, 13827541, 13894229, 13918465, 14027792, 14318194, 14846755, 15624723, 16048763, 17483561, 17658871, 17760389, 17841716, 18201403, 18230785, 18278027, 18414126, 18429255, 18500565, 18563261, 18583352, 18640017, 18700526, 18731648, 18832600, 18835001, 18954990, 19001896, 19198652, 19246497, 19250129, 19283676, 19360065, 19390294, 19542165, 19684219, 20237810, 20238928, 20477649, 20533499, 21004977, 21046515, 21337392, 21392826, 21427127, 21581743, 21698116, 21992665, 22117155, 22353206, 22482065, 22527008, 22562385, 22596208, 22675028, 22685197, 22723408, 22757782, 22772148, 22840332, 22916023, 22943785, 22997397, 23097071, 23151330, 23309371, 23403123, 23432436, 23464789, 23483753, 23516874, 23534681, 23543548, 23627090, 23814445, 24086936, 24120047, 24170828, 24252258, 24329955, 24376338, 24530589, 24542853, 24882401, 24889299, 25046156, 25088738, 25219968, 25326381, 25579730, 25609078, 25696943, 25706226, 25754800, 25812304, 25814665, 25858011, 26008546, 26038129, 26129492, 26140171, 26215301, 26306443, 26393276, 26395014, 26431354, 26442958, 26618984, 26677369, 26692340, 26768565, 26826970, 26941956, 26959763, 27098508, 27126408, 27302754, 27381785, 27553794, 27567820, 27579013, 27654694, 27668666, 27821144, 27884760, 27914341, 27962051, 28056344, 28126984, 28172098, 28205965, 28254418, 28295233, 28346540, 28361912, 28408170, 28465730, 28668877, 28817000, 28880966, 28996410, 29174139, 29175637, 29223105, 29356697, 29414246, 29444079, 29913679, 29973026, 30040597, 30065695, 30529018, 30546196, 30570166, 31009267, 31416007, 31539131, 31682033, 32368118, 32389527, 32396411, 32437593, 32440340, 32515395, 33515579, 33765439, 33779688, 33900755, 33961271, 34002770, 34040756, 34239757, 34374252, 34537406, 34566480, 34606141, 34702746, 34911882, 35100138, 35109155, 35395257, 35477406, 35538935, 35618334, 35723953, 35838745, 35847859, 35889174, 35980711, 36068424, 36141721, 36233444, 36530996, 36578522, 36618645, 36722685, 36766661, 36798875, 36838763, 37017199, 37063210, 37115088, 37119383, 37135010, 37231845, 37253066, 37270473, 37648208, 37655325, 37685412, 37907766, 38298600, 38351793, 38692113, 38712332, 39248799, 39563806, 39948036, 40127302, 40138898, 40339708, 40519126, 40589003, 40632798, 41191588, 41540585, 41544308, 41644913, 41694086, 41850329, 41952689, 41979080, 42174336, 42793173, 42903346, 42923180, 43021357, 43163480, 43321748, 43443353, 43572804, 43596039, 43641573, 43695384, 44280471, 44359419, 44696585, 44759190, 44844368, 44879910, 45170970, 45204706, 45379666, 45400563, 45547128, 45595899, 45597540, 45700834, 46310863, 46372508, 46398286]\n"
     ]
    }
   ],
   "source": [
    "# Создаем копию исходных данных с сортировкой для дальнейшей обработки.\n",
    "sorted_data = train_data.sort_values(['customer_id', 'startdatetime']).copy()\n",
    "\n",
    "# Удаляем дубликаты по 'customer_id' и 'startdatetime' для получения уникальных дат покупок.\n",
    "unique_purchase_dates = sorted_data.drop_duplicates(subset=['customer_id', 'startdatetime']).copy()\n",
    "\n",
    "# Вычисляем интервалы между покупками.\n",
    "purchase_intervals = unique_purchase_dates.groupby('customer_id')['startdatetime'].diff().dt.days\n",
    "\n",
    "# Присваиваем вычисленные интервалы в DataFrame.\n",
    "unique_purchase_dates.loc[:, 'purchase_interval'] = purchase_intervals\n",
    "\n",
    "# Удаляем NaN значения, появившиеся в результате использования функции diff().\n",
    "intervals_data = unique_purchase_dates.dropna(subset=['purchase_interval'])\n",
    "\n",
    "# Теперь удаляем интервалы, равные нулю.\n",
    "intervals_data = intervals_data[intervals_data['purchase_interval'] != 0]\n",
    "\n",
    "# Группировка по 'customer_id' и подсчет количества уникальных и общего числа интервалов между покупками.\n",
    "intervals_analysis = intervals_data.groupby('customer_id')['purchase_interval'].agg(['nunique', 'count'])\n",
    "\n",
    "# Выбираем клиентов, у которых более двух покупок и одинаковый интервал между покупками.\n",
    "regular_customers = intervals_analysis[(intervals_analysis['nunique'] == 1) & (intervals_analysis['count'] > 2)]\n",
    "\n",
    "# Получаем список ID клиентов.\n",
    "regular_customer_ids = regular_customers.index.tolist()\n",
    "\n",
    "# Количество таких клиентов.\n",
    "regular_customer_count = len(regular_customer_ids)\n",
    "\n",
    "print(f\"Количество клиентов с одинаковыми интервалами между более чем двумя покупками: {regular_customer_count}\")\n",
    "print(\"ID этих клиентов:\", regular_customer_ids)\n"
   ]
  },
  {
   "cell_type": "code",
   "execution_count": 9,
   "id": "29456659",
   "metadata": {},
   "outputs": [
    {
     "name": "stdout",
     "output_type": "stream",
     "text": [
      "Количество уникальных регулярных клиентов с 'buy_post' равным 1: 213\n",
      "Количество уникальных регулярных клиентов с 'buy_post' равным 0: 151\n"
     ]
    }
   ],
   "source": [
    "# Отфильтровываем исходник DataFrame для получения только тех клиентов, которые у нас есть в списке\n",
    "regular_customers_df = sorted_data[sorted_data['customer_id'].isin(regular_customer_ids)]\n",
    "\n",
    "# Группируем отфильтрованные данные по 'customer_id' и 'buy_post', чтобы узнать, сколько покупок каждого класса сделал каждый клиент\n",
    "class_counts = regular_customers_df.groupby(['customer_id', 'buy_post']).size().unstack(fill_value=0)\n",
    "\n",
    "# Теперь у нас есть DataFrame, где индексы - это customer_id, а столбцы - это значения 'buy_post'\n",
    "# Считаем количество клиентов для каждого класса\n",
    "class_distribution = class_counts.sum(axis=0)\n",
    "\n",
    "# Получаем количество уникальных клиентов для каждого класса 'buy_post'\n",
    "unique_customer_count_by_class = regular_customers_df.drop_duplicates(subset=['customer_id', 'buy_post'])['buy_post'].value_counts()\n",
    "\n",
    "print(f\"Количество уникальных регулярных клиентов с 'buy_post' равным 1: {unique_customer_count_by_class.get(1, 0)}\")\n",
    "print(f\"Количество уникальных регулярных клиентов с 'buy_post' равным 0: {unique_customer_count_by_class.get(0, 0)}\")\n"
   ]
  },
  {
   "cell_type": "code",
   "execution_count": 10,
   "id": "ce182253",
   "metadata": {},
   "outputs": [
    {
     "name": "stdout",
     "output_type": "stream",
     "text": [
      "Интервалы между покупками пользователя 274671: [0.0, 0.0, 0.0, 1.0, 0.0, 0.0, 0.0, 1.0, 0.0, 0.0, 0.0, 1.0, 0.0, 0.0, 0.0, 0.0, 0.0, 0.0, 0.0]\n"
     ]
    },
    {
     "name": "stderr",
     "output_type": "stream",
     "text": [
      "/var/folders/ng/zvvj96k93v5f0p56hzn85y_m0000gp/T/ipykernel_3111/419282486.py:5: SettingWithCopyWarning: \n",
      "A value is trying to be set on a copy of a slice from a DataFrame.\n",
      "Try using .loc[row_indexer,col_indexer] = value instead\n",
      "\n",
      "See the caveats in the documentation: https://pandas.pydata.org/pandas-docs/stable/user_guide/indexing.html#returning-a-view-versus-a-copy\n",
      "  customer_purchases['purchase_interval'] = customer_purchases['startdatetime'].diff().dt.days\n"
     ]
    }
   ],
   "source": [
    "# Выбираем данные для пользователя с ID 274671\n",
    "customer_purchases = sorted_data[sorted_data['customer_id'] == 274671]\n",
    "\n",
    "# Рассчитываем интервал между покупками\n",
    "customer_purchases['purchase_interval'] = customer_purchases['startdatetime'].diff().dt.days\n",
    "\n",
    "# Удаляем NaN значения, которые появляются для первой покупки, так как для неё не существует предыдущей\n",
    "customer_intervals = customer_purchases['purchase_interval'].dropna()\n",
    "\n",
    "print(f\"Интервалы между покупками пользователя 274671: {customer_intervals.tolist()}\")"
   ]
  },
  {
   "cell_type": "code",
   "execution_count": null,
   "id": "2763d3c3",
   "metadata": {},
   "outputs": [],
   "source": []
  }
 ],
 "metadata": {
  "kernelspec": {
   "display_name": "Python 3 (ipykernel)",
   "language": "python",
   "name": "python3"
  },
  "language_info": {
   "codemirror_mode": {
    "name": "ipython",
    "version": 3
   },
   "file_extension": ".py",
   "mimetype": "text/x-python",
   "name": "python",
   "nbconvert_exporter": "python",
   "pygments_lexer": "ipython3",
   "version": "3.9.13"
  }
 },
 "nbformat": 4,
 "nbformat_minor": 5
}
